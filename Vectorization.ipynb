{
 "cells": [
  {
   "cell_type": "code",
   "execution_count": 2,
   "id": "c0a96473",
   "metadata": {},
   "outputs": [
    {
     "name": "stdout",
     "output_type": "stream",
     "text": [
      "249853.86873926304\n",
      "Vectorized: 0.9946823120117188 ms\n",
      "249853.86873925765\n",
      "Non-Vectorized: 449.0833282470703 ms\n"
     ]
    }
   ],
   "source": [
    "import numpy as np\n",
    "import time \n",
    "\n",
    "a=np.random.rand(1000000)\n",
    "b=np.random.rand(1000000)\n",
    "\n",
    "\n",
    "tic=time.time()\n",
    "c1=np.dot(a,b)\n",
    "print(c1)\n",
    "tac=time.time()\n",
    "print(\"Vectorized: \"+ str(1000*(tac-tic))+\" ms\")\n",
    "\n",
    "c2=0\n",
    "tic=time.time()\n",
    "for i in range(1000000):\n",
    "    c2 += a[i]*b[i]\n",
    "print(c2)\n",
    "tac=time.time()\n",
    "print(\"Non-Vectorized: \"+ str(1000*(tac-tic))+\" ms\")"
   ]
  },
  {
   "cell_type": "code",
   "execution_count": null,
   "id": "86df89f7",
   "metadata": {},
   "outputs": [],
   "source": []
  }
 ],
 "metadata": {
  "kernelspec": {
   "display_name": "Python 3 (ipykernel)",
   "language": "python",
   "name": "python3"
  },
  "language_info": {
   "codemirror_mode": {
    "name": "ipython",
    "version": 3
   },
   "file_extension": ".py",
   "mimetype": "text/x-python",
   "name": "python",
   "nbconvert_exporter": "python",
   "pygments_lexer": "ipython3",
   "version": "3.11.5"
  }
 },
 "nbformat": 4,
 "nbformat_minor": 5
}
